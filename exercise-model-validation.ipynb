{
 "cells": [
  {
   "cell_type": "markdown",
   "id": "30ef2bd7",
   "metadata": {
    "papermill": {
     "duration": 0.004803,
     "end_time": "2023-03-12T21:25:23.886919",
     "exception": false,
     "start_time": "2023-03-12T21:25:23.882116",
     "status": "completed"
    },
    "tags": []
   },
   "source": [
    "**This notebook is an exercise in the [Introduction to Machine Learning](https://www.kaggle.com/learn/intro-to-machine-learning) course.  You can reference the tutorial at [this link](https://www.kaggle.com/dansbecker/model-validation).**\n",
    "\n",
    "---\n"
   ]
  },
  {
   "cell_type": "markdown",
   "id": "84f9b1cc",
   "metadata": {
    "papermill": {
     "duration": 0.003347,
     "end_time": "2023-03-12T21:25:23.894082",
     "exception": false,
     "start_time": "2023-03-12T21:25:23.890735",
     "status": "completed"
    },
    "tags": []
   },
   "source": [
    "## Recap\n",
    "You've built a model. In this exercise you will test how good your model is.\n",
    "\n",
    "Run the cell below to set up your coding environment where the previous exercise left off."
   ]
  },
  {
   "cell_type": "code",
   "execution_count": 1,
   "id": "7240d8cc",
   "metadata": {
    "execution": {
     "iopub.execute_input": "2023-03-12T21:25:23.903997Z",
     "iopub.status.busy": "2023-03-12T21:25:23.903136Z",
     "iopub.status.idle": "2023-03-12T21:25:25.270299Z",
     "shell.execute_reply": "2023-03-12T21:25:25.269160Z"
    },
    "papermill": {
     "duration": 1.374953,
     "end_time": "2023-03-12T21:25:25.272634",
     "exception": false,
     "start_time": "2023-03-12T21:25:23.897681",
     "status": "completed"
    },
    "tags": []
   },
   "outputs": [
    {
     "name": "stdout",
     "output_type": "stream",
     "text": [
      "First in-sample predictions: [208500. 181500. 223500. 140000. 250000.]\n",
      "Actual target values for those homes: [208500, 181500, 223500, 140000, 250000]\n",
      "Setup Complete\n"
     ]
    }
   ],
   "source": [
    "# Code you have previously used to load data\n",
    "import pandas as pd\n",
    "from sklearn.tree import DecisionTreeRegressor\n",
    "\n",
    "# Path of the file to read\n",
    "iowa_file_path = '../input/home-data-for-ml-course/train.csv'\n",
    "\n",
    "home_data = pd.read_csv(iowa_file_path)\n",
    "y = home_data.SalePrice\n",
    "feature_columns = ['LotArea', 'YearBuilt', '1stFlrSF', '2ndFlrSF', 'FullBath', 'BedroomAbvGr', 'TotRmsAbvGrd']\n",
    "X = home_data[feature_columns]\n",
    "\n",
    "# Specify Model\n",
    "iowa_model = DecisionTreeRegressor()\n",
    "# Fit Model\n",
    "iowa_model.fit(X, y)\n",
    "\n",
    "print(\"First in-sample predictions:\", iowa_model.predict(X.head()))\n",
    "print(\"Actual target values for those homes:\", y.head().tolist())\n",
    "\n",
    "# Set up code checking\n",
    "from learntools.core import binder\n",
    "binder.bind(globals())\n",
    "from learntools.machine_learning.ex4 import *\n",
    "print(\"Setup Complete\")"
   ]
  },
  {
   "cell_type": "markdown",
   "id": "dcffc035",
   "metadata": {
    "papermill": {
     "duration": 0.00349,
     "end_time": "2023-03-12T21:25:25.280035",
     "exception": false,
     "start_time": "2023-03-12T21:25:25.276545",
     "status": "completed"
    },
    "tags": []
   },
   "source": [
    "# Exercises\n",
    "\n",
    "## Step 1: Split Your Data\n",
    "Use the `train_test_split` function to split up your data.\n",
    "\n",
    "Give it the argument `random_state=1` so the `check` functions know what to expect when verifying your code.\n",
    "\n",
    "Recall, your features are loaded in the DataFrame **X** and your target is loaded in **y**.\n"
   ]
  },
  {
   "cell_type": "code",
   "execution_count": 2,
   "id": "07370940",
   "metadata": {
    "execution": {
     "iopub.execute_input": "2023-03-12T21:25:25.290239Z",
     "iopub.status.busy": "2023-03-12T21:25:25.289186Z",
     "iopub.status.idle": "2023-03-12T21:25:25.299398Z",
     "shell.execute_reply": "2023-03-12T21:25:25.298643Z"
    },
    "papermill": {
     "duration": 0.017489,
     "end_time": "2023-03-12T21:25:25.301309",
     "exception": false,
     "start_time": "2023-03-12T21:25:25.283820",
     "status": "completed"
    },
    "tags": []
   },
   "outputs": [
    {
     "data": {
      "application/javascript": [
       "parent.postMessage({\"jupyterEvent\": \"custom.exercise_interaction\", \"data\": {\"outcomeType\": 2, \"failureMessage\": \"You still need to define the following variables: `val_X`, `val_y`, `train_y`, `train_X`\", \"interactionType\": 1, \"questionType\": 2, \"questionId\": \"1_SplitData\", \"learnToolsVersion\": \"0.3.4\", \"valueTowardsCompletion\": 0.0, \"exceptionClass\": \"\", \"trace\": \"\"}}, \"*\")"
      ],
      "text/plain": [
       "<IPython.core.display.Javascript object>"
      ]
     },
     "metadata": {},
     "output_type": "display_data"
    },
    {
     "data": {
      "text/markdown": [
       "<span style=\"color:#cc3333\">Incorrect:</span> You still need to define the following variables: `val_X`, `val_y`, `train_y`, `train_X`"
      ],
      "text/plain": [
       "Incorrect: You still need to define the following variables: `val_X`, `val_y`, `train_y`, `train_X`"
      ]
     },
     "metadata": {},
     "output_type": "display_data"
    }
   ],
   "source": [
    "# Import the train_test_split function and uncomment\n",
    "# from _ import _\n",
    "\n",
    "# fill in and uncomment\n",
    "# train_X, val_X, train_y, val_y = ____\n",
    "\n",
    "# Check your answer\n",
    "step_1.check()"
   ]
  },
  {
   "cell_type": "code",
   "execution_count": 3,
   "id": "b26d5d0b",
   "metadata": {
    "execution": {
     "iopub.execute_input": "2023-03-12T21:25:25.311202Z",
     "iopub.status.busy": "2023-03-12T21:25:25.310534Z",
     "iopub.status.idle": "2023-03-12T21:25:25.314514Z",
     "shell.execute_reply": "2023-03-12T21:25:25.313860Z"
    },
    "papermill": {
     "duration": 0.011079,
     "end_time": "2023-03-12T21:25:25.316375",
     "exception": false,
     "start_time": "2023-03-12T21:25:25.305296",
     "status": "completed"
    },
    "tags": []
   },
   "outputs": [],
   "source": [
    "# The lines below will show you a hint or the solution.\n",
    "# step_1.hint() \n",
    "# step_1.solution()\n"
   ]
  },
  {
   "cell_type": "markdown",
   "id": "a776ffae",
   "metadata": {
    "papermill": {
     "duration": 0.003769,
     "end_time": "2023-03-12T21:25:25.324267",
     "exception": false,
     "start_time": "2023-03-12T21:25:25.320498",
     "status": "completed"
    },
    "tags": []
   },
   "source": [
    "## Step 2: Specify and Fit the Model\n",
    "\n",
    "Create a `DecisionTreeRegressor` model and fit it to the relevant data.\n",
    "Set `random_state` to 1 again when creating the model."
   ]
  },
  {
   "cell_type": "code",
   "execution_count": 4,
   "id": "0b8e1abf",
   "metadata": {
    "execution": {
     "iopub.execute_input": "2023-03-12T21:25:25.334020Z",
     "iopub.status.busy": "2023-03-12T21:25:25.333352Z",
     "iopub.status.idle": "2023-03-12T21:25:25.341630Z",
     "shell.execute_reply": "2023-03-12T21:25:25.340882Z"
    },
    "papermill": {
     "duration": 0.01542,
     "end_time": "2023-03-12T21:25:25.343538",
     "exception": false,
     "start_time": "2023-03-12T21:25:25.328118",
     "status": "completed"
    },
    "tags": []
   },
   "outputs": [
    {
     "data": {
      "application/javascript": [
       "parent.postMessage({\"jupyterEvent\": \"custom.exercise_interaction\", \"data\": {\"outcomeType\": 2, \"failureMessage\": \"You still need to define the following variables: `val_X`, `train_X`, `train_y`\", \"interactionType\": 1, \"questionType\": 2, \"questionId\": \"2_FitModelWithTrain\", \"learnToolsVersion\": \"0.3.4\", \"valueTowardsCompletion\": 0.0, \"exceptionClass\": \"\", \"trace\": \"\"}}, \"*\")"
      ],
      "text/plain": [
       "<IPython.core.display.Javascript object>"
      ]
     },
     "metadata": {},
     "output_type": "display_data"
    },
    {
     "data": {
      "text/markdown": [
       "<span style=\"color:#cc3333\">Incorrect:</span> You still need to define the following variables: `val_X`, `train_X`, `train_y`"
      ],
      "text/plain": [
       "Incorrect: You still need to define the following variables: `val_X`, `train_X`, `train_y`"
      ]
     },
     "metadata": {},
     "output_type": "display_data"
    }
   ],
   "source": [
    "# You imported DecisionTreeRegressor in your last exercise\n",
    "# and that code has been copied to the setup code above. So, no need to\n",
    "# import it again\n",
    "\n",
    "# Specify the model\n",
    "iowa_model = ____\n",
    "\n",
    "# Fit iowa_model with the training data.\n",
    "____\n",
    "\n",
    "# Check your answer\n",
    "step_2.check()"
   ]
  },
  {
   "cell_type": "code",
   "execution_count": 5,
   "id": "87364725",
   "metadata": {
    "execution": {
     "iopub.execute_input": "2023-03-12T21:25:25.354301Z",
     "iopub.status.busy": "2023-03-12T21:25:25.353646Z",
     "iopub.status.idle": "2023-03-12T21:25:25.357427Z",
     "shell.execute_reply": "2023-03-12T21:25:25.356792Z"
    },
    "papermill": {
     "duration": 0.011275,
     "end_time": "2023-03-12T21:25:25.359234",
     "exception": false,
     "start_time": "2023-03-12T21:25:25.347959",
     "status": "completed"
    },
    "tags": []
   },
   "outputs": [],
   "source": [
    "# step_2.hint()\n",
    "# step_2.solution()"
   ]
  },
  {
   "cell_type": "markdown",
   "id": "c71941e9",
   "metadata": {
    "papermill": {
     "duration": 0.004064,
     "end_time": "2023-03-12T21:25:25.367576",
     "exception": false,
     "start_time": "2023-03-12T21:25:25.363512",
     "status": "completed"
    },
    "tags": []
   },
   "source": [
    "## Step 3: Make Predictions with Validation data\n"
   ]
  },
  {
   "cell_type": "code",
   "execution_count": 6,
   "id": "025fdd88",
   "metadata": {
    "execution": {
     "iopub.execute_input": "2023-03-12T21:25:25.378054Z",
     "iopub.status.busy": "2023-03-12T21:25:25.377412Z",
     "iopub.status.idle": "2023-03-12T21:25:25.385267Z",
     "shell.execute_reply": "2023-03-12T21:25:25.384540Z"
    },
    "papermill": {
     "duration": 0.015252,
     "end_time": "2023-03-12T21:25:25.387106",
     "exception": false,
     "start_time": "2023-03-12T21:25:25.371854",
     "status": "completed"
    },
    "tags": []
   },
   "outputs": [
    {
     "data": {
      "application/javascript": [
       "parent.postMessage({\"jupyterEvent\": \"custom.exercise_interaction\", \"data\": {\"outcomeType\": 2, \"failureMessage\": \"You still need to define the following variables: `val_X`\", \"interactionType\": 1, \"questionType\": 2, \"questionId\": \"3_ValPreds\", \"learnToolsVersion\": \"0.3.4\", \"valueTowardsCompletion\": 0.0, \"exceptionClass\": \"\", \"trace\": \"\"}}, \"*\")"
      ],
      "text/plain": [
       "<IPython.core.display.Javascript object>"
      ]
     },
     "metadata": {},
     "output_type": "display_data"
    },
    {
     "data": {
      "text/markdown": [
       "<span style=\"color:#cc3333\">Incorrect:</span> You still need to define the following variables: `val_X`"
      ],
      "text/plain": [
       "Incorrect: You still need to define the following variables: `val_X`"
      ]
     },
     "metadata": {},
     "output_type": "display_data"
    }
   ],
   "source": [
    "# Predict with all validation observations\n",
    "val_predictions = ____\n",
    "\n",
    "# Check your answer\n",
    "step_3.check()"
   ]
  },
  {
   "cell_type": "code",
   "execution_count": 7,
   "id": "ffde9dbc",
   "metadata": {
    "execution": {
     "iopub.execute_input": "2023-03-12T21:25:25.399074Z",
     "iopub.status.busy": "2023-03-12T21:25:25.398743Z",
     "iopub.status.idle": "2023-03-12T21:25:25.403570Z",
     "shell.execute_reply": "2023-03-12T21:25:25.401803Z"
    },
    "papermill": {
     "duration": 0.013122,
     "end_time": "2023-03-12T21:25:25.405473",
     "exception": false,
     "start_time": "2023-03-12T21:25:25.392351",
     "status": "completed"
    },
    "tags": []
   },
   "outputs": [],
   "source": [
    "# step_3.hint()\n",
    "# step_3.solution()"
   ]
  },
  {
   "cell_type": "markdown",
   "id": "52a57292",
   "metadata": {
    "papermill": {
     "duration": 0.004223,
     "end_time": "2023-03-12T21:25:25.414571",
     "exception": false,
     "start_time": "2023-03-12T21:25:25.410348",
     "status": "completed"
    },
    "tags": []
   },
   "source": [
    "Inspect your predictions and actual values from validation data."
   ]
  },
  {
   "cell_type": "code",
   "execution_count": 8,
   "id": "82617805",
   "metadata": {
    "execution": {
     "iopub.execute_input": "2023-03-12T21:25:25.425637Z",
     "iopub.status.busy": "2023-03-12T21:25:25.425083Z",
     "iopub.status.idle": "2023-03-12T21:25:25.430521Z",
     "shell.execute_reply": "2023-03-12T21:25:25.429397Z"
    },
    "papermill": {
     "duration": 0.013296,
     "end_time": "2023-03-12T21:25:25.432406",
     "exception": false,
     "start_time": "2023-03-12T21:25:25.419110",
     "status": "completed"
    },
    "tags": []
   },
   "outputs": [
    {
     "name": "stdout",
     "output_type": "stream",
     "text": [
      "<learntools.core.constants.PlaceholderValue object at 0x7fbdda650450>\n",
      "<learntools.core.constants.PlaceholderValue object at 0x7fbdda650450>\n"
     ]
    }
   ],
   "source": [
    "# print the top few validation predictions\n",
    "print(____)\n",
    "# print the top few actual prices from validation data\n",
    "print(____)"
   ]
  },
  {
   "cell_type": "markdown",
   "id": "dea1b5f1",
   "metadata": {
    "papermill": {
     "duration": 0.004293,
     "end_time": "2023-03-12T21:25:25.441248",
     "exception": false,
     "start_time": "2023-03-12T21:25:25.436955",
     "status": "completed"
    },
    "tags": []
   },
   "source": [
    "What do you notice that is different from what you saw with in-sample predictions (which are printed after the top code cell in this page).\n",
    "\n",
    "Do you remember why validation predictions differ from in-sample (or training) predictions? This is an important idea from the last lesson.\n",
    "\n",
    "## Step 4: Calculate the Mean Absolute Error in Validation Data\n"
   ]
  },
  {
   "cell_type": "code",
   "execution_count": 9,
   "id": "96828830",
   "metadata": {
    "execution": {
     "iopub.execute_input": "2023-03-12T21:25:25.452046Z",
     "iopub.status.busy": "2023-03-12T21:25:25.451662Z",
     "iopub.status.idle": "2023-03-12T21:25:25.460271Z",
     "shell.execute_reply": "2023-03-12T21:25:25.459267Z"
    },
    "papermill": {
     "duration": 0.016471,
     "end_time": "2023-03-12T21:25:25.462128",
     "exception": false,
     "start_time": "2023-03-12T21:25:25.445657",
     "status": "completed"
    },
    "tags": []
   },
   "outputs": [
    {
     "data": {
      "application/javascript": [
       "parent.postMessage({\"jupyterEvent\": \"custom.exercise_interaction\", \"data\": {\"outcomeType\": 4, \"interactionType\": 1, \"questionType\": 1, \"questionId\": \"4_MAE\", \"learnToolsVersion\": \"0.3.4\", \"valueTowardsCompletion\": 0.0, \"failureMessage\": \"\", \"exceptionClass\": \"\", \"trace\": \"\"}}, \"*\")"
      ],
      "text/plain": [
       "<IPython.core.display.Javascript object>"
      ]
     },
     "metadata": {},
     "output_type": "display_data"
    },
    {
     "data": {
      "text/markdown": [
       "<span style=\"color:#ccaa33\">Check:</span> When you've updated the starter code, `check()` will tell you whether your code is correct. You need to update the code that creates variable `val_mae`"
      ],
      "text/plain": [
       "Check: When you've updated the starter code, `check()` will tell you whether your code is correct. You need to update the code that creates variable `val_mae`"
      ]
     },
     "metadata": {},
     "output_type": "display_data"
    }
   ],
   "source": [
    "from sklearn.metrics import mean_absolute_error\n",
    "val_mae = ____\n",
    "\n",
    "# uncomment following line to see the validation_mae\n",
    "#print(val_mae)\n",
    "\n",
    "# Check your answer\n",
    "step_4.check()"
   ]
  },
  {
   "cell_type": "code",
   "execution_count": 10,
   "id": "01f5500b",
   "metadata": {
    "execution": {
     "iopub.execute_input": "2023-03-12T21:25:25.473581Z",
     "iopub.status.busy": "2023-03-12T21:25:25.472524Z",
     "iopub.status.idle": "2023-03-12T21:25:25.476906Z",
     "shell.execute_reply": "2023-03-12T21:25:25.476063Z"
    },
    "papermill": {
     "duration": 0.011862,
     "end_time": "2023-03-12T21:25:25.478757",
     "exception": false,
     "start_time": "2023-03-12T21:25:25.466895",
     "status": "completed"
    },
    "tags": []
   },
   "outputs": [],
   "source": [
    "# step_4.hint()\n",
    "# step_4.solution()"
   ]
  },
  {
   "cell_type": "markdown",
   "id": "95c444cd",
   "metadata": {
    "papermill": {
     "duration": 0.004528,
     "end_time": "2023-03-12T21:25:25.488224",
     "exception": false,
     "start_time": "2023-03-12T21:25:25.483696",
     "status": "completed"
    },
    "tags": []
   },
   "source": [
    "Is that MAE good?  There isn't a general rule for what values are good that applies across applications. But you'll see how to use (and improve) this number in the next step.\n",
    "\n",
    "# Keep Going\n",
    "\n",
    "You are ready for **[Underfitting and Overfitting](https://www.kaggle.com/dansbecker/underfitting-and-overfitting).**\n"
   ]
  },
  {
   "cell_type": "markdown",
   "id": "be6167df",
   "metadata": {
    "papermill": {
     "duration": 0.004729,
     "end_time": "2023-03-12T21:25:25.497706",
     "exception": false,
     "start_time": "2023-03-12T21:25:25.492977",
     "status": "completed"
    },
    "tags": []
   },
   "source": [
    "---\n",
    "\n",
    "\n",
    "\n",
    "\n",
    "*Have questions or comments? Visit the [course discussion forum](https://www.kaggle.com/learn/intro-to-machine-learning/discussion) to chat with other learners.*"
   ]
  }
 ],
 "metadata": {
  "kernelspec": {
   "display_name": "Python 3",
   "language": "python",
   "name": "python3"
  },
  "language_info": {
   "codemirror_mode": {
    "name": "ipython",
    "version": 3
   },
   "file_extension": ".py",
   "mimetype": "text/x-python",
   "name": "python",
   "nbconvert_exporter": "python",
   "pygments_lexer": "ipython3",
   "version": "3.7.12"
  },
  "papermill": {
   "default_parameters": {},
   "duration": 10.974496,
   "end_time": "2023-03-12T21:25:26.222838",
   "environment_variables": {},
   "exception": null,
   "input_path": "__notebook__.ipynb",
   "output_path": "__notebook__.ipynb",
   "parameters": {},
   "start_time": "2023-03-12T21:25:15.248342",
   "version": "2.4.0"
  }
 },
 "nbformat": 4,
 "nbformat_minor": 5
}
