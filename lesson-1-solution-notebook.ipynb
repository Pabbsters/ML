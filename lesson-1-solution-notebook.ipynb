{
 "cells": [
  {
   "cell_type": "markdown",
   "id": "e4126639",
   "metadata": {
    "papermill": {
     "duration": 0.00828,
     "end_time": "2023-03-12T21:24:12.185235",
     "exception": false,
     "start_time": "2023-03-12T21:24:12.176955",
     "status": "completed"
    },
    "tags": []
   },
   "source": [
    "# **Lesson 1: The KNearestNeighbors Algorithm On The Titanic Dataset**"
   ]
  },
  {
   "cell_type": "code",
   "execution_count": 1,
   "id": "9c5ac99a",
   "metadata": {
    "execution": {
     "iopub.execute_input": "2023-03-12T21:24:12.199252Z",
     "iopub.status.busy": "2023-03-12T21:24:12.198268Z",
     "iopub.status.idle": "2023-03-12T21:24:12.213397Z",
     "shell.execute_reply": "2023-03-12T21:24:12.212259Z"
    },
    "papermill": {
     "duration": 0.0251,
     "end_time": "2023-03-12T21:24:12.216128",
     "exception": false,
     "start_time": "2023-03-12T21:24:12.191028",
     "status": "completed"
    },
    "tags": []
   },
   "outputs": [],
   "source": [
    "# Import the libraries we will need to use\n",
    "# For today's lesson, only the basic libraries are necessary\n",
    "\n",
    "import pandas as pd\n",
    "import numpy as np"
   ]
  },
  {
   "cell_type": "code",
   "execution_count": 2,
   "id": "04e70a37",
   "metadata": {
    "execution": {
     "iopub.execute_input": "2023-03-12T21:24:12.229858Z",
     "iopub.status.busy": "2023-03-12T21:24:12.228883Z",
     "iopub.status.idle": "2023-03-12T21:24:12.269747Z",
     "shell.execute_reply": "2023-03-12T21:24:12.268531Z"
    },
    "papermill": {
     "duration": 0.050257,
     "end_time": "2023-03-12T21:24:12.272212",
     "exception": false,
     "start_time": "2023-03-12T21:24:12.221955",
     "status": "completed"
    },
    "tags": []
   },
   "outputs": [
    {
     "data": {
      "text/html": [
       "<div>\n",
       "<style scoped>\n",
       "    .dataframe tbody tr th:only-of-type {\n",
       "        vertical-align: middle;\n",
       "    }\n",
       "\n",
       "    .dataframe tbody tr th {\n",
       "        vertical-align: top;\n",
       "    }\n",
       "\n",
       "    .dataframe thead th {\n",
       "        text-align: right;\n",
       "    }\n",
       "</style>\n",
       "<table border=\"1\" class=\"dataframe\">\n",
       "  <thead>\n",
       "    <tr style=\"text-align: right;\">\n",
       "      <th></th>\n",
       "      <th>PassengerId</th>\n",
       "      <th>Survived</th>\n",
       "      <th>Pclass</th>\n",
       "      <th>Name</th>\n",
       "      <th>Sex</th>\n",
       "      <th>Age</th>\n",
       "      <th>SibSp</th>\n",
       "      <th>Parch</th>\n",
       "      <th>Ticket</th>\n",
       "      <th>Fare</th>\n",
       "      <th>Cabin</th>\n",
       "      <th>Embarked</th>\n",
       "    </tr>\n",
       "  </thead>\n",
       "  <tbody>\n",
       "    <tr>\n",
       "      <th>0</th>\n",
       "      <td>1</td>\n",
       "      <td>0</td>\n",
       "      <td>3</td>\n",
       "      <td>Braund, Mr. Owen Harris</td>\n",
       "      <td>male</td>\n",
       "      <td>22.0</td>\n",
       "      <td>1</td>\n",
       "      <td>0</td>\n",
       "      <td>A/5 21171</td>\n",
       "      <td>7.2500</td>\n",
       "      <td>NaN</td>\n",
       "      <td>S</td>\n",
       "    </tr>\n",
       "    <tr>\n",
       "      <th>1</th>\n",
       "      <td>2</td>\n",
       "      <td>1</td>\n",
       "      <td>1</td>\n",
       "      <td>Cumings, Mrs. John Bradley (Florence Briggs Th...</td>\n",
       "      <td>female</td>\n",
       "      <td>38.0</td>\n",
       "      <td>1</td>\n",
       "      <td>0</td>\n",
       "      <td>PC 17599</td>\n",
       "      <td>71.2833</td>\n",
       "      <td>C85</td>\n",
       "      <td>C</td>\n",
       "    </tr>\n",
       "    <tr>\n",
       "      <th>2</th>\n",
       "      <td>3</td>\n",
       "      <td>1</td>\n",
       "      <td>3</td>\n",
       "      <td>Heikkinen, Miss. Laina</td>\n",
       "      <td>female</td>\n",
       "      <td>26.0</td>\n",
       "      <td>0</td>\n",
       "      <td>0</td>\n",
       "      <td>STON/O2. 3101282</td>\n",
       "      <td>7.9250</td>\n",
       "      <td>NaN</td>\n",
       "      <td>S</td>\n",
       "    </tr>\n",
       "    <tr>\n",
       "      <th>3</th>\n",
       "      <td>4</td>\n",
       "      <td>1</td>\n",
       "      <td>1</td>\n",
       "      <td>Futrelle, Mrs. Jacques Heath (Lily May Peel)</td>\n",
       "      <td>female</td>\n",
       "      <td>35.0</td>\n",
       "      <td>1</td>\n",
       "      <td>0</td>\n",
       "      <td>113803</td>\n",
       "      <td>53.1000</td>\n",
       "      <td>C123</td>\n",
       "      <td>S</td>\n",
       "    </tr>\n",
       "    <tr>\n",
       "      <th>4</th>\n",
       "      <td>5</td>\n",
       "      <td>0</td>\n",
       "      <td>3</td>\n",
       "      <td>Allen, Mr. William Henry</td>\n",
       "      <td>male</td>\n",
       "      <td>35.0</td>\n",
       "      <td>0</td>\n",
       "      <td>0</td>\n",
       "      <td>373450</td>\n",
       "      <td>8.0500</td>\n",
       "      <td>NaN</td>\n",
       "      <td>S</td>\n",
       "    </tr>\n",
       "  </tbody>\n",
       "</table>\n",
       "</div>"
      ],
      "text/plain": [
       "   PassengerId  Survived  Pclass  \\\n",
       "0            1         0       3   \n",
       "1            2         1       1   \n",
       "2            3         1       3   \n",
       "3            4         1       1   \n",
       "4            5         0       3   \n",
       "\n",
       "                                                Name     Sex   Age  SibSp  \\\n",
       "0                            Braund, Mr. Owen Harris    male  22.0      1   \n",
       "1  Cumings, Mrs. John Bradley (Florence Briggs Th...  female  38.0      1   \n",
       "2                             Heikkinen, Miss. Laina  female  26.0      0   \n",
       "3       Futrelle, Mrs. Jacques Heath (Lily May Peel)  female  35.0      1   \n",
       "4                           Allen, Mr. William Henry    male  35.0      0   \n",
       "\n",
       "   Parch            Ticket     Fare Cabin Embarked  \n",
       "0      0         A/5 21171   7.2500   NaN        S  \n",
       "1      0          PC 17599  71.2833   C85        C  \n",
       "2      0  STON/O2. 3101282   7.9250   NaN        S  \n",
       "3      0            113803  53.1000  C123        S  \n",
       "4      0            373450   8.0500   NaN        S  "
      ]
     },
     "execution_count": 2,
     "metadata": {},
     "output_type": "execute_result"
    }
   ],
   "source": [
    "# Read the data into a dataframe object\n",
    "\n",
    "df = pd.read_csv(\"/kaggle/input/titanic/train.csv\")\n",
    "\n",
    "# View the first 5 rows \n",
    "\n",
    "df.head()"
   ]
  },
  {
   "cell_type": "code",
   "execution_count": 3,
   "id": "7aa757c2",
   "metadata": {
    "execution": {
     "iopub.execute_input": "2023-03-12T21:24:12.286600Z",
     "iopub.status.busy": "2023-03-12T21:24:12.285404Z",
     "iopub.status.idle": "2023-03-12T21:24:12.297157Z",
     "shell.execute_reply": "2023-03-12T21:24:12.296285Z"
    },
    "papermill": {
     "duration": 0.021453,
     "end_time": "2023-03-12T21:24:12.299549",
     "exception": false,
     "start_time": "2023-03-12T21:24:12.278096",
     "status": "completed"
    },
    "tags": []
   },
   "outputs": [],
   "source": [
    "# Identify the target class and seperate it from the data\n",
    "\n",
    "targets = df[\"Survived\"]\n",
    "\n",
    "df.drop([\"Survived\", \"PassengerId\"], axis=1, inplace=True)\n",
    "\n",
    "# The parameter inplace creates and saves changes directly to df variable"
   ]
  },
  {
   "cell_type": "code",
   "execution_count": 4,
   "id": "1891de25",
   "metadata": {
    "execution": {
     "iopub.execute_input": "2023-03-12T21:24:12.313667Z",
     "iopub.status.busy": "2023-03-12T21:24:12.312496Z",
     "iopub.status.idle": "2023-03-12T21:24:12.322998Z",
     "shell.execute_reply": "2023-03-12T21:24:12.322178Z"
    },
    "papermill": {
     "duration": 0.01964,
     "end_time": "2023-03-12T21:24:12.325077",
     "exception": false,
     "start_time": "2023-03-12T21:24:12.305437",
     "status": "completed"
    },
    "tags": []
   },
   "outputs": [
    {
     "data": {
      "text/plain": [
       "0    549\n",
       "1    342\n",
       "Name: Survived, dtype: int64"
      ]
     },
     "execution_count": 4,
     "metadata": {},
     "output_type": "execute_result"
    }
   ],
   "source": [
    "# Look at what we are trying to predict -- how balanced is it?\n",
    "\n",
    "targets.value_counts()"
   ]
  },
  {
   "cell_type": "code",
   "execution_count": 5,
   "id": "a13cd731",
   "metadata": {
    "execution": {
     "iopub.execute_input": "2023-03-12T21:24:12.338917Z",
     "iopub.status.busy": "2023-03-12T21:24:12.338478Z",
     "iopub.status.idle": "2023-03-12T21:24:12.348103Z",
     "shell.execute_reply": "2023-03-12T21:24:12.346992Z"
    },
    "papermill": {
     "duration": 0.019258,
     "end_time": "2023-03-12T21:24:12.350438",
     "exception": false,
     "start_time": "2023-03-12T21:24:12.331180",
     "status": "completed"
    },
    "tags": []
   },
   "outputs": [
    {
     "data": {
      "text/plain": [
       "Pclass      False\n",
       "Name        False\n",
       "Sex         False\n",
       "Age          True\n",
       "SibSp       False\n",
       "Parch       False\n",
       "Ticket      False\n",
       "Fare        False\n",
       "Cabin        True\n",
       "Embarked     True\n",
       "dtype: bool"
      ]
     },
     "execution_count": 5,
     "metadata": {},
     "output_type": "execute_result"
    }
   ],
   "source": [
    "# Machine learning models typically can't handle NaN value\n",
    "# We can fill them in a few different ways\n",
    "\n",
    "df.isnull().any()"
   ]
  },
  {
   "cell_type": "code",
   "execution_count": 6,
   "id": "6e70d48b",
   "metadata": {
    "execution": {
     "iopub.execute_input": "2023-03-12T21:24:12.365179Z",
     "iopub.status.busy": "2023-03-12T21:24:12.364727Z",
     "iopub.status.idle": "2023-03-12T21:24:12.380777Z",
     "shell.execute_reply": "2023-03-12T21:24:12.379777Z"
    },
    "papermill": {
     "duration": 0.02658,
     "end_time": "2023-03-12T21:24:12.383273",
     "exception": false,
     "start_time": "2023-03-12T21:24:12.356693",
     "status": "completed"
    },
    "tags": []
   },
   "outputs": [],
   "source": [
    "# Based on the above results, define a list containing the nan columns\n",
    "\n",
    "nan_cols = [\"Age\", \"Cabin\", \"Embarked\"]\n",
    "\n",
    "# Fill these columns in with most frequent value; An alternative would be to remove all rows containing NaN elements\n",
    "\n",
    "for col in nan_cols:\n",
    "    df[col].fillna(df[col].mode()[0], inplace=True)"
   ]
  },
  {
   "cell_type": "code",
   "execution_count": 7,
   "id": "741c4cbb",
   "metadata": {
    "execution": {
     "iopub.execute_input": "2023-03-12T21:24:12.397703Z",
     "iopub.status.busy": "2023-03-12T21:24:12.396927Z",
     "iopub.status.idle": "2023-03-12T21:24:12.405922Z",
     "shell.execute_reply": "2023-03-12T21:24:12.405167Z"
    },
    "papermill": {
     "duration": 0.01846,
     "end_time": "2023-03-12T21:24:12.407957",
     "exception": false,
     "start_time": "2023-03-12T21:24:12.389497",
     "status": "completed"
    },
    "tags": []
   },
   "outputs": [
    {
     "data": {
      "text/plain": [
       "Pclass      False\n",
       "Name        False\n",
       "Sex         False\n",
       "Age         False\n",
       "SibSp       False\n",
       "Parch       False\n",
       "Ticket      False\n",
       "Fare        False\n",
       "Cabin       False\n",
       "Embarked    False\n",
       "dtype: bool"
      ]
     },
     "execution_count": 7,
     "metadata": {},
     "output_type": "execute_result"
    }
   ],
   "source": [
    "# Check if w.align filled in the nan values\n",
    "\n",
    "df.isnull().any()"
   ]
  },
  {
   "cell_type": "code",
   "execution_count": 8,
   "id": "eb2dbe17",
   "metadata": {
    "execution": {
     "iopub.execute_input": "2023-03-12T21:24:12.422431Z",
     "iopub.status.busy": "2023-03-12T21:24:12.421728Z",
     "iopub.status.idle": "2023-03-12T21:24:12.428414Z",
     "shell.execute_reply": "2023-03-12T21:24:12.427569Z"
    },
    "papermill": {
     "duration": 0.016303,
     "end_time": "2023-03-12T21:24:12.430519",
     "exception": false,
     "start_time": "2023-03-12T21:24:12.414216",
     "status": "completed"
    },
    "tags": []
   },
   "outputs": [],
   "source": [
    "# Determine the usefulness of the columns -- Are their any we should drop?\n",
    "\n",
    "df.drop(\"Name\", axis=1, inplace=True)"
   ]
  },
  {
   "cell_type": "code",
   "execution_count": 9,
   "id": "05efaeea",
   "metadata": {
    "execution": {
     "iopub.execute_input": "2023-03-12T21:24:12.445421Z",
     "iopub.status.busy": "2023-03-12T21:24:12.444789Z",
     "iopub.status.idle": "2023-03-12T21:24:12.452373Z",
     "shell.execute_reply": "2023-03-12T21:24:12.450735Z"
    },
    "papermill": {
     "duration": 0.01798,
     "end_time": "2023-03-12T21:24:12.454664",
     "exception": false,
     "start_time": "2023-03-12T21:24:12.436684",
     "status": "completed"
    },
    "tags": []
   },
   "outputs": [
    {
     "name": "stdout",
     "output_type": "stream",
     "text": [
      "['Pclass', 'Age', 'SibSp', 'Parch', 'Fare']\n",
      "['Sex', 'Ticket', 'Cabin', 'Embarked']\n"
     ]
    }
   ],
   "source": [
    "# Create a list storing the column names of our data, and determine which are categorical\n",
    "# and numerical\n",
    "\n",
    "df_cols = df.columns \n",
    "cat_cols = [col for col in df_cols if df[col].dtype == \"object\"]\n",
    "num_cols = [col for col in df_cols if col not in cat_cols]\n",
    "\n",
    "print(num_cols)\n",
    "print(cat_cols)"
   ]
  },
  {
   "cell_type": "code",
   "execution_count": 10,
   "id": "c888a68d",
   "metadata": {
    "execution": {
     "iopub.execute_input": "2023-03-12T21:24:12.468673Z",
     "iopub.status.busy": "2023-03-12T21:24:12.467998Z",
     "iopub.status.idle": "2023-03-12T21:24:12.490085Z",
     "shell.execute_reply": "2023-03-12T21:24:12.488750Z"
    },
    "papermill": {
     "duration": 0.03167,
     "end_time": "2023-03-12T21:24:12.492419",
     "exception": false,
     "start_time": "2023-03-12T21:24:12.460749",
     "status": "completed"
    },
    "tags": []
   },
   "outputs": [
    {
     "data": {
      "text/html": [
       "<div>\n",
       "<style scoped>\n",
       "    .dataframe tbody tr th:only-of-type {\n",
       "        vertical-align: middle;\n",
       "    }\n",
       "\n",
       "    .dataframe tbody tr th {\n",
       "        vertical-align: top;\n",
       "    }\n",
       "\n",
       "    .dataframe thead th {\n",
       "        text-align: right;\n",
       "    }\n",
       "</style>\n",
       "<table border=\"1\" class=\"dataframe\">\n",
       "  <thead>\n",
       "    <tr style=\"text-align: right;\">\n",
       "      <th></th>\n",
       "      <th>Pclass</th>\n",
       "      <th>Sex</th>\n",
       "      <th>Age</th>\n",
       "      <th>SibSp</th>\n",
       "      <th>Parch</th>\n",
       "      <th>Ticket</th>\n",
       "      <th>Fare</th>\n",
       "      <th>Cabin</th>\n",
       "      <th>Embarked</th>\n",
       "    </tr>\n",
       "  </thead>\n",
       "  <tbody>\n",
       "    <tr>\n",
       "      <th>0</th>\n",
       "      <td>3</td>\n",
       "      <td>0</td>\n",
       "      <td>22.0</td>\n",
       "      <td>1</td>\n",
       "      <td>0</td>\n",
       "      <td>0</td>\n",
       "      <td>7.2500</td>\n",
       "      <td>0</td>\n",
       "      <td>0</td>\n",
       "    </tr>\n",
       "    <tr>\n",
       "      <th>1</th>\n",
       "      <td>1</td>\n",
       "      <td>1</td>\n",
       "      <td>38.0</td>\n",
       "      <td>1</td>\n",
       "      <td>0</td>\n",
       "      <td>1</td>\n",
       "      <td>71.2833</td>\n",
       "      <td>1</td>\n",
       "      <td>1</td>\n",
       "    </tr>\n",
       "    <tr>\n",
       "      <th>2</th>\n",
       "      <td>3</td>\n",
       "      <td>1</td>\n",
       "      <td>26.0</td>\n",
       "      <td>0</td>\n",
       "      <td>0</td>\n",
       "      <td>2</td>\n",
       "      <td>7.9250</td>\n",
       "      <td>0</td>\n",
       "      <td>0</td>\n",
       "    </tr>\n",
       "    <tr>\n",
       "      <th>3</th>\n",
       "      <td>1</td>\n",
       "      <td>1</td>\n",
       "      <td>35.0</td>\n",
       "      <td>1</td>\n",
       "      <td>0</td>\n",
       "      <td>3</td>\n",
       "      <td>53.1000</td>\n",
       "      <td>2</td>\n",
       "      <td>0</td>\n",
       "    </tr>\n",
       "    <tr>\n",
       "      <th>4</th>\n",
       "      <td>3</td>\n",
       "      <td>0</td>\n",
       "      <td>35.0</td>\n",
       "      <td>0</td>\n",
       "      <td>0</td>\n",
       "      <td>4</td>\n",
       "      <td>8.0500</td>\n",
       "      <td>0</td>\n",
       "      <td>0</td>\n",
       "    </tr>\n",
       "  </tbody>\n",
       "</table>\n",
       "</div>"
      ],
      "text/plain": [
       "   Pclass  Sex   Age  SibSp  Parch  Ticket     Fare  Cabin  Embarked\n",
       "0       3    0  22.0      1      0       0   7.2500      0         0\n",
       "1       1    1  38.0      1      0       1  71.2833      1         1\n",
       "2       3    1  26.0      0      0       2   7.9250      0         0\n",
       "3       1    1  35.0      1      0       3  53.1000      2         0\n",
       "4       3    0  35.0      0      0       4   8.0500      0         0"
      ]
     },
     "execution_count": 10,
     "metadata": {},
     "output_type": "execute_result"
    }
   ],
   "source": [
    "# Algorithms like numbers, not text. \n",
    "# How should we convert the categorical columns to numbers?\n",
    "\n",
    "for col in cat_cols:\n",
    "    elements = df[col].unique()\n",
    "    \n",
    "    element2idx = {v : k for k, v in enumerate(elements)}\n",
    "    \n",
    "    df[col] = df[col].apply(lambda x: element2idx[x])\n",
    "    \n",
    "df.head()"
   ]
  },
  {
   "cell_type": "code",
   "execution_count": 11,
   "id": "0e3a194a",
   "metadata": {
    "execution": {
     "iopub.execute_input": "2023-03-12T21:24:12.507192Z",
     "iopub.status.busy": "2023-03-12T21:24:12.506508Z",
     "iopub.status.idle": "2023-03-12T21:24:12.518912Z",
     "shell.execute_reply": "2023-03-12T21:24:12.517898Z"
    },
    "papermill": {
     "duration": 0.022483,
     "end_time": "2023-03-12T21:24:12.521324",
     "exception": false,
     "start_time": "2023-03-12T21:24:12.498841",
     "status": "completed"
    },
    "tags": []
   },
   "outputs": [],
   "source": [
    "# Now that our data is processed, and algorithm friendly, let's model this data\n",
    "# For today's lesson, we will use the one of the simplest algorithms -- KNearest Neighbors \n",
    "\n",
    "\n",
    "class KNearestNeighborsClassifier():\n",
    "    \"\"\"\n",
    "    For any given sample, this algorithm will try to find\n",
    "    the K most similar samples, and then returns the most \n",
    "    frequent class among those samples. For example, let's \n",
    "    say that we are looking for '5 neighbors', which respective\n",
    "    classes 1, 2, 1, 1, 2. The most common amongst them is 1. \n",
    "    Our model will predict 1.\n",
    "    \"\"\"\n",
    "    \n",
    "    ### What parameter(s) should our class take in\n",
    "    \n",
    "    def __init__(self, data, labels, n_neighbors=5):\n",
    "        self.n_neighbors = n_neighbors\n",
    "        self.data = data\n",
    "        self.labels = labels\n",
    "        \n",
    "    ### How should we measure the similarity between two samples?\n",
    "        \n",
    "    def compute_similarity_euc(self, sample1, sample2):\n",
    "        total = 0\n",
    "        \n",
    "        for feat1, feat2 in zip(sample1, sample2):\n",
    "            total += (feat1 - feat2) ** 2\n",
    "            \n",
    "        total **= (1/2)\n",
    "        \n",
    "        return total\n",
    "    \n",
    "    ### Look through all of our data, and extract the most similar samples\n",
    "    \n",
    "    def most_similar_samples(self, sample):\n",
    "        sample_similarities = []\n",
    "        \n",
    "        for sample_ in self.data:\n",
    "            sample_similarities.append(self.compute_similarity_euc(sample, sample_))\n",
    "            \n",
    "        indices = np.argsort(sample_similarities)[::-1]\n",
    "        \n",
    "        return indices[:self.n_neighbors]\n",
    "    \n",
    "    ### Helper function to calculate the most frequent value of a list\n",
    "    \n",
    "    def mode(self, values):\n",
    "        count_dict = {v : 0 for v in values}\n",
    "        \n",
    "        for v in values:\n",
    "            count_dict[v] += 1\n",
    "            \n",
    "        return max(count_dict, key=count_dict.get)\n",
    "    \n",
    "    ### How can we use our functions above to predict new samples?\n",
    "    \n",
    "    def predict(self, X):\n",
    "        predictions = []\n",
    "        for sample in X:\n",
    "            closest_neighbors = self.most_similar_samples(sample)\n",
    "            neighbor_labels = self.labels[closest_neighbors]\n",
    "            predictions.append(self.mode(neighbor_labels))\n",
    "            \n",
    "        return predictions"
   ]
  },
  {
   "cell_type": "code",
   "execution_count": 12,
   "id": "322ed3ee",
   "metadata": {
    "execution": {
     "iopub.execute_input": "2023-03-12T21:24:12.535905Z",
     "iopub.status.busy": "2023-03-12T21:24:12.535485Z",
     "iopub.status.idle": "2023-03-12T21:24:12.541502Z",
     "shell.execute_reply": "2023-03-12T21:24:12.540328Z"
    },
    "papermill": {
     "duration": 0.015853,
     "end_time": "2023-03-12T21:24:12.543626",
     "exception": false,
     "start_time": "2023-03-12T21:24:12.527773",
     "status": "completed"
    },
    "tags": []
   },
   "outputs": [],
   "source": [
    "# Now that we have our data analyzed and processed, convert to numpy arrays\n",
    "\n",
    "data = df.values \n",
    "targets = targets.values"
   ]
  },
  {
   "cell_type": "code",
   "execution_count": 13,
   "id": "fbe005ee",
   "metadata": {
    "execution": {
     "iopub.execute_input": "2023-03-12T21:24:12.558750Z",
     "iopub.status.busy": "2023-03-12T21:24:12.557777Z",
     "iopub.status.idle": "2023-03-12T21:24:12.565956Z",
     "shell.execute_reply": "2023-03-12T21:24:12.565050Z"
    },
    "papermill": {
     "duration": 0.018031,
     "end_time": "2023-03-12T21:24:12.568081",
     "exception": false,
     "start_time": "2023-03-12T21:24:12.550050",
     "status": "completed"
    },
    "tags": []
   },
   "outputs": [],
   "source": [
    "# Define training data, and testing data\n",
    "# Determine test size\n",
    "\n",
    "np.random.seed(42)\n",
    "np.random.shuffle(data)\n",
    "np.random.seed(42)\n",
    "np.random.shuffle(targets)\n",
    "\n",
    "test_size = 0.2 \n",
    "\n",
    "train_length = int(len(data)*0.2)\n",
    "\n",
    "X_train, X_valid = data[:train_length], data[train_length:]\n",
    "y_train, y_valid = targets[:train_length], targets[train_length:]"
   ]
  },
  {
   "cell_type": "code",
   "execution_count": 14,
   "id": "4895059e",
   "metadata": {
    "execution": {
     "iopub.execute_input": "2023-03-12T21:24:12.585345Z",
     "iopub.status.busy": "2023-03-12T21:24:12.584239Z",
     "iopub.status.idle": "2023-03-12T21:24:13.417486Z",
     "shell.execute_reply": "2023-03-12T21:24:13.416307Z"
    },
    "papermill": {
     "duration": 0.844948,
     "end_time": "2023-03-12T21:24:13.420494",
     "exception": false,
     "start_time": "2023-03-12T21:24:12.575546",
     "status": "completed"
    },
    "tags": []
   },
   "outputs": [],
   "source": [
    "# Instantiate our model, and make predictions on new data\n",
    "\n",
    "model = KNearestNeighborsClassifier(X_train, y_train, 10)\n",
    "predictions = model.predict(X_valid)"
   ]
  },
  {
   "cell_type": "code",
   "execution_count": 15,
   "id": "55c90f94",
   "metadata": {
    "execution": {
     "iopub.execute_input": "2023-03-12T21:24:13.435898Z",
     "iopub.status.busy": "2023-03-12T21:24:13.434664Z",
     "iopub.status.idle": "2023-03-12T21:24:13.440982Z",
     "shell.execute_reply": "2023-03-12T21:24:13.439819Z"
    },
    "papermill": {
     "duration": 0.016427,
     "end_time": "2023-03-12T21:24:13.443445",
     "exception": false,
     "start_time": "2023-03-12T21:24:13.427018",
     "status": "completed"
    },
    "tags": []
   },
   "outputs": [],
   "source": [
    "# Helper function to determine how accurate our model is\n",
    "\n",
    "def accuracy(x, y):\n",
    "    counter = 0\n",
    "\n",
    "    for x_, y_ in zip(x, y):\n",
    "        counter += int(x_ == y_)\n",
    "        \n",
    "    return counter/len(x)"
   ]
  },
  {
   "cell_type": "code",
   "execution_count": 16,
   "id": "8a073ac8",
   "metadata": {
    "execution": {
     "iopub.execute_input": "2023-03-12T21:24:13.457955Z",
     "iopub.status.busy": "2023-03-12T21:24:13.457541Z",
     "iopub.status.idle": "2023-03-12T21:24:13.463230Z",
     "shell.execute_reply": "2023-03-12T21:24:13.462117Z"
    },
    "papermill": {
     "duration": 0.015896,
     "end_time": "2023-03-12T21:24:13.465747",
     "exception": false,
     "start_time": "2023-03-12T21:24:13.449851",
     "status": "completed"
    },
    "tags": []
   },
   "outputs": [
    {
     "name": "stdout",
     "output_type": "stream",
     "text": [
      "Baseline Accuracy: 0.605890603085554\n"
     ]
    }
   ],
   "source": [
    "# Algorithm Analysis -- How good is our algorithm and how can we improve it\n",
    "\n",
    "print(f\"Baseline Accuracy: {accuracy(y_valid, predictions)}\")"
   ]
  },
  {
   "cell_type": "code",
   "execution_count": 17,
   "id": "e72cad88",
   "metadata": {
    "execution": {
     "iopub.execute_input": "2023-03-12T21:24:13.480174Z",
     "iopub.status.busy": "2023-03-12T21:24:13.479733Z",
     "iopub.status.idle": "2023-03-12T21:24:29.035494Z",
     "shell.execute_reply": "2023-03-12T21:24:29.033794Z"
    },
    "papermill": {
     "duration": 15.566774,
     "end_time": "2023-03-12T21:24:29.038904",
     "exception": false,
     "start_time": "2023-03-12T21:24:13.472130",
     "status": "completed"
    },
    "tags": []
   },
   "outputs": [
    {
     "name": "stdout",
     "output_type": "stream",
     "text": [
      "Training Algorithm With 1 Neighbors\n",
      "Training Algorithm With 2 Neighbors\n",
      "Training Algorithm With 3 Neighbors\n",
      "Training Algorithm With 4 Neighbors\n",
      "Training Algorithm With 5 Neighbors\n",
      "Training Algorithm With 6 Neighbors\n",
      "Training Algorithm With 7 Neighbors\n",
      "Training Algorithm With 8 Neighbors\n",
      "Training Algorithm With 9 Neighbors\n",
      "Training Algorithm With 10 Neighbors\n",
      "Training Algorithm With 11 Neighbors\n",
      "Training Algorithm With 12 Neighbors\n",
      "Training Algorithm With 13 Neighbors\n",
      "Training Algorithm With 14 Neighbors\n",
      "Training Algorithm With 15 Neighbors\n",
      "Training Algorithm With 16 Neighbors\n",
      "Training Algorithm With 17 Neighbors\n",
      "Training Algorithm With 18 Neighbors\n",
      "Training Algorithm With 19 Neighbors\n"
     ]
    }
   ],
   "source": [
    "# To improve an algorithm, we must \"tune\" the algorithm\n",
    "# This means finding the best number of neighbors based on accuracy in our case\n",
    "\n",
    "neighbor_candidates = [x for x in range(1, 20)]\n",
    "results = []\n",
    "\n",
    "\n",
    "for n_neighbors in neighbor_candidates:\n",
    "    \n",
    "    print(f\"Training Algorithm With {n_neighbors} Neighbors\")\n",
    "    \n",
    "    model = KNearestNeighborsClassifier(X_train, y_train, n_neighbors)\n",
    "    predictions = model.predict(X_valid)\n",
    "    \n",
    "    accuracy_score = accuracy(y_valid, predictions)\n",
    "    \n",
    "    results.append(accuracy_score)"
   ]
  },
  {
   "cell_type": "code",
   "execution_count": 18,
   "id": "6425d16d",
   "metadata": {
    "execution": {
     "iopub.execute_input": "2023-03-12T21:24:29.056111Z",
     "iopub.status.busy": "2023-03-12T21:24:29.055070Z",
     "iopub.status.idle": "2023-03-12T21:24:29.062035Z",
     "shell.execute_reply": "2023-03-12T21:24:29.060736Z"
    },
    "papermill": {
     "duration": 0.019124,
     "end_time": "2023-03-12T21:24:29.065455",
     "exception": false,
     "start_time": "2023-03-12T21:24:29.046331",
     "status": "completed"
    },
    "tags": []
   },
   "outputs": [
    {
     "name": "stdout",
     "output_type": "stream",
     "text": [
      "Neighbors: 1 | Accuracy: 0.5021037868162693\n",
      "Neighbors: 2 | Accuracy: 0.5021037868162693\n",
      "Neighbors: 3 | Accuracy: 0.4950911640953717\n",
      "Neighbors: 4 | Accuracy: 0.4950911640953717\n",
      "Neighbors: 5 | Accuracy: 0.47685834502103785\n",
      "Neighbors: 6 | Accuracy: 0.4782608695652174\n",
      "Neighbors: 7 | Accuracy: 0.6143057503506312\n",
      "Neighbors: 8 | Accuracy: 0.6072931276297335\n",
      "Neighbors: 9 | Accuracy: 0.5946704067321178\n",
      "Neighbors: 10 | Accuracy: 0.605890603085554\n",
      "Neighbors: 11 | Accuracy: 0.6072931276297335\n",
      "Neighbors: 12 | Accuracy: 0.6086956521739131\n",
      "Neighbors: 13 | Accuracy: 0.6044880785413744\n",
      "Neighbors: 14 | Accuracy: 0.605890603085554\n",
      "Neighbors: 15 | Accuracy: 0.6072931276297335\n",
      "Neighbors: 16 | Accuracy: 0.6072931276297335\n",
      "Neighbors: 17 | Accuracy: 0.6016830294530154\n",
      "Neighbors: 18 | Accuracy: 0.603085553997195\n",
      "Neighbors: 19 | Accuracy: 0.6072931276297335\n"
     ]
    }
   ],
   "source": [
    "# Identify the best parameters\n",
    "\n",
    "for n_neighbor in neighbor_candidates:\n",
    "    print(f\"Neighbors: {n_neighbor} | Accuracy: {results[n_neighbor-1]}\")"
   ]
  },
  {
   "cell_type": "code",
   "execution_count": 19,
   "id": "285cee0e",
   "metadata": {
    "execution": {
     "iopub.execute_input": "2023-03-12T21:24:29.082610Z",
     "iopub.status.busy": "2023-03-12T21:24:29.082167Z",
     "iopub.status.idle": "2023-03-12T21:24:29.910849Z",
     "shell.execute_reply": "2023-03-12T21:24:29.909774Z"
    },
    "papermill": {
     "duration": 0.840482,
     "end_time": "2023-03-12T21:24:29.913212",
     "exception": false,
     "start_time": "2023-03-12T21:24:29.072730",
     "status": "completed"
    },
    "tags": []
   },
   "outputs": [],
   "source": [
    "# Determine the best neighbor count, and make our final predictions!\n",
    "\n",
    "model = KNearestNeighborsClassifier(X_train, y_train, 7)\n",
    "predictions = model.predict(X_valid)"
   ]
  },
  {
   "cell_type": "code",
   "execution_count": null,
   "id": "1281cd72",
   "metadata": {
    "papermill": {
     "duration": 0.006978,
     "end_time": "2023-03-12T21:24:29.927579",
     "exception": false,
     "start_time": "2023-03-12T21:24:29.920601",
     "status": "completed"
    },
    "tags": []
   },
   "outputs": [],
   "source": []
  }
 ],
 "metadata": {
  "kernelspec": {
   "display_name": "Python 3",
   "language": "python",
   "name": "python3"
  },
  "language_info": {
   "codemirror_mode": {
    "name": "ipython",
    "version": 3
   },
   "file_extension": ".py",
   "mimetype": "text/x-python",
   "name": "python",
   "nbconvert_exporter": "python",
   "pygments_lexer": "ipython3",
   "version": "3.7.12"
  },
  "papermill": {
   "default_parameters": {},
   "duration": 27.366636,
   "end_time": "2023-03-12T21:24:30.658621",
   "environment_variables": {},
   "exception": null,
   "input_path": "__notebook__.ipynb",
   "output_path": "__notebook__.ipynb",
   "parameters": {},
   "start_time": "2023-03-12T21:24:03.291985",
   "version": "2.3.4"
  }
 },
 "nbformat": 4,
 "nbformat_minor": 5
}
