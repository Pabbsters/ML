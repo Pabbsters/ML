{
 "cells": [
  {
   "cell_type": "markdown",
   "id": "d964d7be",
   "metadata": {
    "papermill": {
     "duration": 0.004348,
     "end_time": "2023-03-12T21:34:57.568093",
     "exception": false,
     "start_time": "2023-03-12T21:34:57.563745",
     "status": "completed"
    },
    "tags": []
   },
   "source": [
    "**This notebook is an exercise in the [Introduction to Machine Learning](https://www.kaggle.com/learn/intro-to-machine-learning) course.  You can reference the tutorial at [this link](https://www.kaggle.com/dansbecker/underfitting-and-overfitting).**\n",
    "\n",
    "---\n"
   ]
  },
  {
   "cell_type": "markdown",
   "id": "3682857d",
   "metadata": {
    "papermill": {
     "duration": 0.002956,
     "end_time": "2023-03-12T21:34:57.574593",
     "exception": false,
     "start_time": "2023-03-12T21:34:57.571637",
     "status": "completed"
    },
    "tags": []
   },
   "source": [
    "## Recap\n",
    "You've built your first model, and now it's time to optimize the size of the tree to make better predictions. Run this cell to set up your coding environment where the previous step left off."
   ]
  },
  {
   "cell_type": "code",
   "execution_count": 1,
   "id": "98b8dfd6",
   "metadata": {
    "collapsed": true,
    "execution": {
     "iopub.execute_input": "2023-03-12T21:34:57.582872Z",
     "iopub.status.busy": "2023-03-12T21:34:57.582459Z",
     "iopub.status.idle": "2023-03-12T21:34:58.979190Z",
     "shell.execute_reply": "2023-03-12T21:34:58.977671Z"
    },
    "jupyter": {
     "outputs_hidden": true
    },
    "papermill": {
     "duration": 1.404857,
     "end_time": "2023-03-12T21:34:58.982642",
     "exception": false,
     "start_time": "2023-03-12T21:34:57.577785",
     "status": "completed"
    },
    "tags": []
   },
   "outputs": [
    {
     "name": "stdout",
     "output_type": "stream",
     "text": [
      "Validation MAE: 29,653\n",
      "\n",
      "Setup complete\n"
     ]
    }
   ],
   "source": [
    "# Code you have previously used to load data\n",
    "import pandas as pd\n",
    "from sklearn.metrics import mean_absolute_error\n",
    "from sklearn.model_selection import train_test_split\n",
    "from sklearn.tree import DecisionTreeRegressor\n",
    "\n",
    "\n",
    "# Path of the file to read\n",
    "iowa_file_path = '../input/home-data-for-ml-course/train.csv'\n",
    "\n",
    "home_data = pd.read_csv(iowa_file_path)\n",
    "# Create target object and call it y\n",
    "y = home_data.SalePrice\n",
    "# Create X\n",
    "features = ['LotArea', 'YearBuilt', '1stFlrSF', '2ndFlrSF', 'FullBath', 'BedroomAbvGr', 'TotRmsAbvGrd']\n",
    "X = home_data[features]\n",
    "\n",
    "# Split into validation and training data\n",
    "train_X, val_X, train_y, val_y = train_test_split(X, y, random_state=1)\n",
    "\n",
    "# Specify Model\n",
    "iowa_model = DecisionTreeRegressor(random_state=1)\n",
    "# Fit Model\n",
    "iowa_model.fit(train_X, train_y)\n",
    "\n",
    "# Make validation predictions and calculate mean absolute error\n",
    "val_predictions = iowa_model.predict(val_X)\n",
    "val_mae = mean_absolute_error(val_predictions, val_y)\n",
    "print(\"Validation MAE: {:,.0f}\".format(val_mae))\n",
    "\n",
    "# Set up code checking\n",
    "from learntools.core import binder\n",
    "binder.bind(globals())\n",
    "from learntools.machine_learning.ex5 import *\n",
    "print(\"\\nSetup complete\")"
   ]
  },
  {
   "cell_type": "markdown",
   "id": "96747906",
   "metadata": {
    "papermill": {
     "duration": 0.003213,
     "end_time": "2023-03-12T21:34:58.990075",
     "exception": false,
     "start_time": "2023-03-12T21:34:58.986862",
     "status": "completed"
    },
    "tags": []
   },
   "source": [
    "# Exercises\n",
    "You could write the function `get_mae` yourself. For now, we'll supply it. This is the same function you read about in the previous lesson. Just run the cell below."
   ]
  },
  {
   "cell_type": "code",
   "execution_count": 2,
   "id": "35c9c579",
   "metadata": {
    "execution": {
     "iopub.execute_input": "2023-03-12T21:34:58.999094Z",
     "iopub.status.busy": "2023-03-12T21:34:58.998178Z",
     "iopub.status.idle": "2023-03-12T21:34:59.004215Z",
     "shell.execute_reply": "2023-03-12T21:34:59.003279Z"
    },
    "papermill": {
     "duration": 0.013174,
     "end_time": "2023-03-12T21:34:59.006618",
     "exception": false,
     "start_time": "2023-03-12T21:34:58.993444",
     "status": "completed"
    },
    "tags": []
   },
   "outputs": [],
   "source": [
    "def get_mae(max_leaf_nodes, train_X, val_X, train_y, val_y):\n",
    "    model = DecisionTreeRegressor(max_leaf_nodes=max_leaf_nodes, random_state=0)\n",
    "    model.fit(train_X, train_y)\n",
    "    preds_val = model.predict(val_X)\n",
    "    mae = mean_absolute_error(val_y, preds_val)\n",
    "    return(mae)"
   ]
  },
  {
   "cell_type": "markdown",
   "id": "30137ec2",
   "metadata": {
    "papermill": {
     "duration": 0.003273,
     "end_time": "2023-03-12T21:34:59.013462",
     "exception": false,
     "start_time": "2023-03-12T21:34:59.010189",
     "status": "completed"
    },
    "tags": []
   },
   "source": [
    "## Step 1: Compare Different Tree Sizes\n",
    "Write a loop that tries the following values for *max_leaf_nodes* from a set of possible values.\n",
    "\n",
    "Call the *get_mae* function on each value of max_leaf_nodes. Store the output in some way that allows you to select the value of `max_leaf_nodes` that gives the most accurate model on your data."
   ]
  },
  {
   "cell_type": "code",
   "execution_count": 3,
   "id": "a211bae0",
   "metadata": {
    "execution": {
     "iopub.execute_input": "2023-03-12T21:34:59.023376Z",
     "iopub.status.busy": "2023-03-12T21:34:59.022057Z",
     "iopub.status.idle": "2023-03-12T21:34:59.034275Z",
     "shell.execute_reply": "2023-03-12T21:34:59.033129Z"
    },
    "papermill": {
     "duration": 0.019781,
     "end_time": "2023-03-12T21:34:59.036801",
     "exception": false,
     "start_time": "2023-03-12T21:34:59.017020",
     "status": "completed"
    },
    "tags": []
   },
   "outputs": [
    {
     "data": {
      "application/javascript": [
       "parent.postMessage({\"jupyterEvent\": \"custom.exercise_interaction\", \"data\": {\"outcomeType\": 4, \"interactionType\": 1, \"questionType\": 1, \"questionId\": \"1_BestTreeSize\", \"learnToolsVersion\": \"0.3.4\", \"valueTowardsCompletion\": 0.0, \"failureMessage\": \"\", \"exceptionClass\": \"\", \"trace\": \"\"}}, \"*\")"
      ],
      "text/plain": [
       "<IPython.core.display.Javascript object>"
      ]
     },
     "metadata": {},
     "output_type": "display_data"
    },
    {
     "data": {
      "text/markdown": [
       "<span style=\"color:#ccaa33\">Check:</span> When you've updated the starter code, `check()` will tell you whether your code is correct. You need to update the code that creates variable `best_tree_size`"
      ],
      "text/plain": [
       "Check: When you've updated the starter code, `check()` will tell you whether your code is correct. You need to update the code that creates variable `best_tree_size`"
      ]
     },
     "metadata": {},
     "output_type": "display_data"
    }
   ],
   "source": [
    "candidate_max_leaf_nodes = [5, 25, 50, 100, 250, 500]\n",
    "# Write loop to find the ideal tree size from candidate_max_leaf_nodes\n",
    "_\n",
    "\n",
    "# Store the best value of max_leaf_nodes (it will be either 5, 25, 50, 100, 250 or 500)\n",
    "best_tree_size = ____\n",
    "\n",
    "# Check your answer\n",
    "step_1.check()"
   ]
  },
  {
   "cell_type": "code",
   "execution_count": 4,
   "id": "ed313c72",
   "metadata": {
    "execution": {
     "iopub.execute_input": "2023-03-12T21:34:59.047033Z",
     "iopub.status.busy": "2023-03-12T21:34:59.046446Z",
     "iopub.status.idle": "2023-03-12T21:34:59.051515Z",
     "shell.execute_reply": "2023-03-12T21:34:59.050216Z"
    },
    "papermill": {
     "duration": 0.012957,
     "end_time": "2023-03-12T21:34:59.053718",
     "exception": false,
     "start_time": "2023-03-12T21:34:59.040761",
     "status": "completed"
    },
    "tags": []
   },
   "outputs": [],
   "source": [
    "# The lines below will show you a hint or the solution.\n",
    "# step_1.hint() \n",
    "# step_1.solution()"
   ]
  },
  {
   "cell_type": "markdown",
   "id": "93a800e4",
   "metadata": {
    "papermill": {
     "duration": 0.003712,
     "end_time": "2023-03-12T21:34:59.061674",
     "exception": false,
     "start_time": "2023-03-12T21:34:59.057962",
     "status": "completed"
    },
    "tags": []
   },
   "source": [
    "## Step 2: Fit Model Using All Data\n",
    "You know the best tree size. If you were going to deploy this model in practice, you would make it even more accurate by using all of the data and keeping that tree size.  That is, you don't need to hold out the validation data now that you've made all your modeling decisions."
   ]
  },
  {
   "cell_type": "code",
   "execution_count": 5,
   "id": "5bb45a6a",
   "metadata": {
    "execution": {
     "iopub.execute_input": "2023-03-12T21:34:59.071113Z",
     "iopub.status.busy": "2023-03-12T21:34:59.070702Z",
     "iopub.status.idle": "2023-03-12T21:34:59.080608Z",
     "shell.execute_reply": "2023-03-12T21:34:59.079300Z"
    },
    "papermill": {
     "duration": 0.017345,
     "end_time": "2023-03-12T21:34:59.082945",
     "exception": false,
     "start_time": "2023-03-12T21:34:59.065600",
     "status": "completed"
    },
    "tags": []
   },
   "outputs": [
    {
     "data": {
      "application/javascript": [
       "parent.postMessage({\"jupyterEvent\": \"custom.exercise_interaction\", \"data\": {\"outcomeType\": 2, \"failureMessage\": \"You still need to define the following variables: `final_model`\", \"interactionType\": 1, \"questionType\": 2, \"questionId\": \"2_FitModelWithAllData\", \"learnToolsVersion\": \"0.3.4\", \"valueTowardsCompletion\": 0.0, \"exceptionClass\": \"\", \"trace\": \"\"}}, \"*\")"
      ],
      "text/plain": [
       "<IPython.core.display.Javascript object>"
      ]
     },
     "metadata": {},
     "output_type": "display_data"
    },
    {
     "data": {
      "text/markdown": [
       "<span style=\"color:#cc3333\">Incorrect:</span> You still need to define the following variables: `final_model`"
      ],
      "text/plain": [
       "Incorrect: You still need to define the following variables: `final_model`"
      ]
     },
     "metadata": {},
     "output_type": "display_data"
    }
   ],
   "source": [
    "# Fill in argument to make optimal size and uncomment\n",
    "# final_model = DecisionTreeRegressor(____)\n",
    "\n",
    "# fit the final model and uncomment the next two lines\n",
    "# final_model.fit(____, ____)\n",
    "\n",
    "# Check your answer\n",
    "step_2.check()"
   ]
  },
  {
   "cell_type": "code",
   "execution_count": 6,
   "id": "87e91e83",
   "metadata": {
    "execution": {
     "iopub.execute_input": "2023-03-12T21:34:59.093333Z",
     "iopub.status.busy": "2023-03-12T21:34:59.092603Z",
     "iopub.status.idle": "2023-03-12T21:34:59.097543Z",
     "shell.execute_reply": "2023-03-12T21:34:59.096295Z"
    },
    "papermill": {
     "duration": 0.012824,
     "end_time": "2023-03-12T21:34:59.099937",
     "exception": false,
     "start_time": "2023-03-12T21:34:59.087113",
     "status": "completed"
    },
    "tags": []
   },
   "outputs": [],
   "source": [
    "# step_2.hint()\n",
    "# step_2.solution()"
   ]
  },
  {
   "cell_type": "markdown",
   "id": "9ac2d7cd",
   "metadata": {
    "papermill": {
     "duration": 0.003961,
     "end_time": "2023-03-12T21:34:59.108159",
     "exception": false,
     "start_time": "2023-03-12T21:34:59.104198",
     "status": "completed"
    },
    "tags": []
   },
   "source": [
    "You've tuned this model and improved your results. But we are still using Decision Tree models, which are not very sophisticated by modern machine learning standards. In the next step you will learn to use Random Forests to improve your models even more.\n",
    "\n",
    "# Keep Going\n",
    "\n",
    "You are ready for **[Random Forests](https://www.kaggle.com/dansbecker/random-forests).**\n"
   ]
  },
  {
   "cell_type": "markdown",
   "id": "9c6d2160",
   "metadata": {
    "papermill": {
     "duration": 0.003926,
     "end_time": "2023-03-12T21:34:59.116352",
     "exception": false,
     "start_time": "2023-03-12T21:34:59.112426",
     "status": "completed"
    },
    "tags": []
   },
   "source": [
    "---\n",
    "\n",
    "\n",
    "\n",
    "\n",
    "*Have questions or comments? Visit the [course discussion forum](https://www.kaggle.com/learn/intro-to-machine-learning/discussion) to chat with other learners.*"
   ]
  }
 ],
 "metadata": {
  "kernelspec": {
   "display_name": "Python 3",
   "language": "python",
   "name": "python3"
  },
  "language_info": {
   "codemirror_mode": {
    "name": "ipython",
    "version": 3
   },
   "file_extension": ".py",
   "mimetype": "text/x-python",
   "name": "python",
   "nbconvert_exporter": "python",
   "pygments_lexer": "ipython3",
   "version": "3.7.12"
  },
  "papermill": {
   "default_parameters": {},
   "duration": 12.833744,
   "end_time": "2023-03-12T21:34:59.844400",
   "environment_variables": {},
   "exception": null,
   "input_path": "__notebook__.ipynb",
   "output_path": "__notebook__.ipynb",
   "parameters": {},
   "start_time": "2023-03-12T21:34:47.010656",
   "version": "2.4.0"
  }
 },
 "nbformat": 4,
 "nbformat_minor": 5
}
